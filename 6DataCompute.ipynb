{
 "cells": [
  {
   "cell_type": "markdown",
   "metadata": {},
   "source": [
    "## 数据运算"
   ]
  },
  {
   "cell_type": "markdown",
   "metadata": {},
   "source": [
    "### 算术运算\n",
    "Python中数值类型的任意两列可以直接进行加、减、乘、除运算，  \n",
    "**而且是对应元素进行加、减、乘、除运算**   \n",
    "任意一列加/减一个常数值，这一列中的所有值都加/减这个常数值，这是广播起的作用，具体显示如下所示  "
   ]
  },
  {
   "cell_type": "code",
   "execution_count": 9,
   "metadata": {},
   "outputs": [
    {
     "data": {
      "text/plain": [
       "0       423\n",
       "1       297\n",
       "2       428\n",
       "3       417\n",
       "4       465\n",
       "       ... \n",
       "3903    366\n",
       "3904    350\n",
       "3905    407\n",
       "3906    359\n",
       "3907    365\n",
       "Length: 3908, dtype: int64"
      ]
     },
     "execution_count": 9,
     "metadata": {},
     "output_type": "execute_result"
    }
   ],
   "source": [
    "import pandas as pd\n",
    "\n",
    "df = pd.read_excel(r'./datapool/search-grade.xlsx')\n",
    "df['听力分数'] + df['阅读分数'] + df['作文分数'] "
   ]
  },
  {
   "cell_type": "code",
   "execution_count": 18,
   "metadata": {},
   "outputs": [
    {
     "data": {
      "text/html": [
       "<div>\n",
       "<style scoped>\n",
       "    .dataframe tbody tr th:only-of-type {\n",
       "        vertical-align: middle;\n",
       "    }\n",
       "\n",
       "    .dataframe tbody tr th {\n",
       "        vertical-align: top;\n",
       "    }\n",
       "\n",
       "    .dataframe thead th {\n",
       "        text-align: right;\n",
       "    }\n",
       "</style>\n",
       "<table border=\"1\" class=\"dataframe\">\n",
       "  <thead>\n",
       "    <tr style=\"text-align: right;\">\n",
       "      <th></th>\n",
       "      <th>听力分数</th>\n",
       "      <th>阅读分数</th>\n",
       "      <th>作文分数</th>\n",
       "    </tr>\n",
       "  </thead>\n",
       "  <tbody>\n",
       "    <tr>\n",
       "      <th>0</th>\n",
       "      <td>135</td>\n",
       "      <td>146</td>\n",
       "      <td>142</td>\n",
       "    </tr>\n",
       "    <tr>\n",
       "      <th>1</th>\n",
       "      <td>87</td>\n",
       "      <td>100</td>\n",
       "      <td>110</td>\n",
       "    </tr>\n",
       "    <tr>\n",
       "      <th>2</th>\n",
       "      <td>130</td>\n",
       "      <td>161</td>\n",
       "      <td>137</td>\n",
       "    </tr>\n",
       "    <tr>\n",
       "      <th>3</th>\n",
       "      <td>141</td>\n",
       "      <td>141</td>\n",
       "      <td>135</td>\n",
       "    </tr>\n",
       "    <tr>\n",
       "      <th>4</th>\n",
       "      <td>163</td>\n",
       "      <td>156</td>\n",
       "      <td>146</td>\n",
       "    </tr>\n",
       "    <tr>\n",
       "      <th>...</th>\n",
       "      <td>...</td>\n",
       "      <td>...</td>\n",
       "      <td>...</td>\n",
       "    </tr>\n",
       "    <tr>\n",
       "      <th>3903</th>\n",
       "      <td>174</td>\n",
       "      <td>97</td>\n",
       "      <td>95</td>\n",
       "    </tr>\n",
       "    <tr>\n",
       "      <th>3904</th>\n",
       "      <td>113</td>\n",
       "      <td>100</td>\n",
       "      <td>137</td>\n",
       "    </tr>\n",
       "    <tr>\n",
       "      <th>3905</th>\n",
       "      <td>118</td>\n",
       "      <td>143</td>\n",
       "      <td>146</td>\n",
       "    </tr>\n",
       "    <tr>\n",
       "      <th>3906</th>\n",
       "      <td>135</td>\n",
       "      <td>123</td>\n",
       "      <td>101</td>\n",
       "    </tr>\n",
       "    <tr>\n",
       "      <th>3907</th>\n",
       "      <td>118</td>\n",
       "      <td>120</td>\n",
       "      <td>127</td>\n",
       "    </tr>\n",
       "  </tbody>\n",
       "</table>\n",
       "<p>3908 rows × 3 columns</p>\n",
       "</div>"
      ],
      "text/plain": [
       "      听力分数  阅读分数  作文分数\n",
       "0      135   146   142\n",
       "1       87   100   110\n",
       "2      130   161   137\n",
       "3      141   141   135\n",
       "4      163   156   146\n",
       "...    ...   ...   ...\n",
       "3903   174    97    95\n",
       "3904   113   100   137\n",
       "3905   118   143   146\n",
       "3906   135   123   101\n",
       "3907   118   120   127\n",
       "\n",
       "[3908 rows x 3 columns]"
      ]
     },
     "execution_count": 18,
     "metadata": {},
     "output_type": "execute_result"
    }
   ],
   "source": [
    "df.loc[:,['听力分数','阅读分数','作文分数']]"
   ]
  },
  {
   "cell_type": "code",
   "execution_count": 3,
   "metadata": {},
   "outputs": [
    {
     "data": {
      "text/plain": [
       "0       10.0\n",
       "1       10.0\n",
       "2       10.0\n",
       "3       10.0\n",
       "4       10.0\n",
       "        ... \n",
       "3903    10.0\n",
       "3904    10.0\n",
       "3905    10.0\n",
       "3906    10.0\n",
       "3907    10.0\n",
       "Name: 综合分数, Length: 3908, dtype: float64"
      ]
     },
     "execution_count": 3,
     "metadata": {},
     "output_type": "execute_result"
    }
   ],
   "source": [
    "(df['综合分数'] + 100) / 10 "
   ]
  },
  {
   "cell_type": "markdown",
   "metadata": {},
   "source": [
    "### 比较运算\n",
    "Python中列与列也可进行比较  \n",
    "常规的大于、等于、小于比较操作  "
   ]
  },
  {
   "cell_type": "code",
   "execution_count": 4,
   "metadata": {},
   "outputs": [
    {
     "data": {
      "text/html": [
       "<div>\n",
       "<style scoped>\n",
       "    .dataframe tbody tr th:only-of-type {\n",
       "        vertical-align: middle;\n",
       "    }\n",
       "\n",
       "    .dataframe tbody tr th {\n",
       "        vertical-align: top;\n",
       "    }\n",
       "\n",
       "    .dataframe thead th {\n",
       "        text-align: right;\n",
       "    }\n",
       "</style>\n",
       "<table border=\"1\" class=\"dataframe\">\n",
       "  <thead>\n",
       "    <tr style=\"text-align: right;\">\n",
       "      <th></th>\n",
       "      <th>序号</th>\n",
       "      <th>姓名</th>\n",
       "      <th>学号</th>\n",
       "      <th>所属学校</th>\n",
       "      <th>院系</th>\n",
       "      <th>专业</th>\n",
       "      <th>班级</th>\n",
       "      <th>笔试准考证号</th>\n",
       "      <th>笔试科目名称</th>\n",
       "      <th>是否缺考</th>\n",
       "      <th>是否违纪</th>\n",
       "      <th>违纪类型</th>\n",
       "      <th>是否听力障碍</th>\n",
       "      <th>是否有成绩单号</th>\n",
       "      <th>成绩单号</th>\n",
       "      <th>笔试成绩总分</th>\n",
       "      <th>听力分数</th>\n",
       "      <th>阅读分数</th>\n",
       "      <th>综合分数</th>\n",
       "      <th>作文分数</th>\n",
       "    </tr>\n",
       "  </thead>\n",
       "  <tbody>\n",
       "    <tr>\n",
       "      <th>4</th>\n",
       "      <td>5</td>\n",
       "      <td>杨子鑫</td>\n",
       "      <td>201910128061</td>\n",
       "      <td>华南理工大学广州学院</td>\n",
       "      <td>经济学院</td>\n",
       "      <td>经济统计学</td>\n",
       "      <td>2019经济统计学1班</td>\n",
       "      <td>445090203108729</td>\n",
       "      <td>（1）英语四级笔试</td>\n",
       "      <td>否</td>\n",
       "      <td>否</td>\n",
       "      <td>--</td>\n",
       "      <td>否</td>\n",
       "      <td>有</td>\n",
       "      <td>2.031445e+14</td>\n",
       "      <td>465</td>\n",
       "      <td>163</td>\n",
       "      <td>156</td>\n",
       "      <td>0</td>\n",
       "      <td>146</td>\n",
       "    </tr>\n",
       "    <tr>\n",
       "      <th>6</th>\n",
       "      <td>7</td>\n",
       "      <td>李昕如</td>\n",
       "      <td>201910102470</td>\n",
       "      <td>华南理工大学广州学院</td>\n",
       "      <td>管理学院</td>\n",
       "      <td>会计学</td>\n",
       "      <td>2019会计学2班</td>\n",
       "      <td>445090203103018</td>\n",
       "      <td>（1）英语四级笔试</td>\n",
       "      <td>否</td>\n",
       "      <td>否</td>\n",
       "      <td>--</td>\n",
       "      <td>否</td>\n",
       "      <td>有</td>\n",
       "      <td>2.031445e+14</td>\n",
       "      <td>458</td>\n",
       "      <td>163</td>\n",
       "      <td>157</td>\n",
       "      <td>0</td>\n",
       "      <td>138</td>\n",
       "    </tr>\n",
       "    <tr>\n",
       "      <th>11</th>\n",
       "      <td>12</td>\n",
       "      <td>赵育德</td>\n",
       "      <td>201810118166</td>\n",
       "      <td>华南理工大学广州学院</td>\n",
       "      <td>机械工程学院</td>\n",
       "      <td>机械工程(创新班)</td>\n",
       "      <td>2018机械工程(创新班)1班</td>\n",
       "      <td>445090203101514</td>\n",
       "      <td>（1）英语四级笔试</td>\n",
       "      <td>否</td>\n",
       "      <td>否</td>\n",
       "      <td>--</td>\n",
       "      <td>否</td>\n",
       "      <td>有</td>\n",
       "      <td>2.031445e+14</td>\n",
       "      <td>395</td>\n",
       "      <td>141</td>\n",
       "      <td>128</td>\n",
       "      <td>0</td>\n",
       "      <td>126</td>\n",
       "    </tr>\n",
       "    <tr>\n",
       "      <th>12</th>\n",
       "      <td>13</td>\n",
       "      <td>王晓晨</td>\n",
       "      <td>201910085079</td>\n",
       "      <td>华南理工大学广州学院</td>\n",
       "      <td>汽车与交通工程学院</td>\n",
       "      <td>车辆工程</td>\n",
       "      <td>2019车辆工程4班</td>\n",
       "      <td>445090203103217</td>\n",
       "      <td>（1）英语四级笔试</td>\n",
       "      <td>否</td>\n",
       "      <td>否</td>\n",
       "      <td>--</td>\n",
       "      <td>否</td>\n",
       "      <td>有</td>\n",
       "      <td>2.031445e+14</td>\n",
       "      <td>299</td>\n",
       "      <td>96</td>\n",
       "      <td>83</td>\n",
       "      <td>0</td>\n",
       "      <td>120</td>\n",
       "    </tr>\n",
       "    <tr>\n",
       "      <th>15</th>\n",
       "      <td>16</td>\n",
       "      <td>王世博</td>\n",
       "      <td>201910110089</td>\n",
       "      <td>华南理工大学广州学院</td>\n",
       "      <td>通信工程学院</td>\n",
       "      <td>通信工程</td>\n",
       "      <td>2019通信工程4班</td>\n",
       "      <td>445090203104111</td>\n",
       "      <td>（1）英语四级笔试</td>\n",
       "      <td>否</td>\n",
       "      <td>否</td>\n",
       "      <td>--</td>\n",
       "      <td>否</td>\n",
       "      <td>有</td>\n",
       "      <td>2.031445e+14</td>\n",
       "      <td>361</td>\n",
       "      <td>152</td>\n",
       "      <td>95</td>\n",
       "      <td>0</td>\n",
       "      <td>114</td>\n",
       "    </tr>\n",
       "  </tbody>\n",
       "</table>\n",
       "</div>"
      ],
      "text/plain": [
       "    序号   姓名            学号        所属学校         院系         专业               班级  \\\n",
       "4    5  杨子鑫  201910128061  华南理工大学广州学院       经济学院      经济统计学      2019经济统计学1班   \n",
       "6    7  李昕如  201910102470  华南理工大学广州学院       管理学院        会计学        2019会计学2班   \n",
       "11  12  赵育德  201810118166  华南理工大学广州学院     机械工程学院  机械工程(创新班)  2018机械工程(创新班)1班   \n",
       "12  13  王晓晨  201910085079  华南理工大学广州学院  汽车与交通工程学院       车辆工程       2019车辆工程4班   \n",
       "15  16  王世博  201910110089  华南理工大学广州学院     通信工程学院       通信工程       2019通信工程4班   \n",
       "\n",
       "             笔试准考证号     笔试科目名称 是否缺考 是否违纪 违纪类型 是否听力障碍 是否有成绩单号          成绩单号  \\\n",
       "4   445090203108729  （1）英语四级笔试    否    否   --      否       有  2.031445e+14   \n",
       "6   445090203103018  （1）英语四级笔试    否    否   --      否       有  2.031445e+14   \n",
       "11  445090203101514  （1）英语四级笔试    否    否   --      否       有  2.031445e+14   \n",
       "12  445090203103217  （1）英语四级笔试    否    否   --      否       有  2.031445e+14   \n",
       "15  445090203104111  （1）英语四级笔试    否    否   --      否       有  2.031445e+14   \n",
       "\n",
       "    笔试成绩总分  听力分数  阅读分数  综合分数  作文分数  \n",
       "4      465   163   156     0   146  \n",
       "6      458   163   157     0   138  \n",
       "11     395   141   128     0   126  \n",
       "12     299    96    83     0   120  \n",
       "15     361   152    95     0   114  "
      ]
     },
     "execution_count": 4,
     "metadata": {},
     "output_type": "execute_result"
    }
   ],
   "source": [
    "df[df['听力分数'] > df['阅读分数']].head()"
   ]
  },
  {
   "cell_type": "markdown",
   "metadata": {},
   "source": [
    "### count汇总运算\n",
    "汇总运算是将数据进行汇总返回一个汇总以后的结果值  \n",
    "直接在整个数据表上调用count函数，返回的结果为该数据表中的每列的非空值的个数    \n",
    "`df.count()`   \n",
    "也可以指定count的列名，统计当前列的非空值  \n",
    "`df['听力分数'].count()`  \n",
    "也可以通过修改axis参数让其等于1，来求取每一行的非空数值的个数  \n",
    "`df.count(axis=1)`  "
   ]
  },
  {
   "cell_type": "code",
   "execution_count": 5,
   "metadata": {},
   "outputs": [
    {
     "data": {
      "text/plain": [
       "序号         3908\n",
       "姓名         3908\n",
       "学号         3908\n",
       "所属学校       3908\n",
       "院系         3908\n",
       "专业         3908\n",
       "班级         3908\n",
       "笔试准考证号     3908\n",
       "笔试科目名称     3908\n",
       "是否缺考       3908\n",
       "是否违纪       3908\n",
       "违纪类型       3908\n",
       "是否听力障碍     3908\n",
       "是否有成绩单号    3908\n",
       "成绩单号       3738\n",
       "笔试成绩总分     3908\n",
       "听力分数       3908\n",
       "阅读分数       3908\n",
       "综合分数       3908\n",
       "作文分数       3908\n",
       "dtype: int64"
      ]
     },
     "execution_count": 5,
     "metadata": {},
     "output_type": "execute_result"
    }
   ],
   "source": [
    "df.count()"
   ]
  },
  {
   "cell_type": "code",
   "execution_count": 6,
   "metadata": {},
   "outputs": [
    {
     "data": {
      "text/plain": [
       "0       20\n",
       "1       20\n",
       "2       20\n",
       "3       20\n",
       "4       20\n",
       "        ..\n",
       "3903    20\n",
       "3904    20\n",
       "3905    20\n",
       "3906    20\n",
       "3907    20\n",
       "Length: 3908, dtype: int64"
      ]
     },
     "execution_count": 6,
     "metadata": {},
     "output_type": "execute_result"
    }
   ],
   "source": [
    "df.count(axis=1)"
   ]
  },
  {
   "cell_type": "code",
   "execution_count": 7,
   "metadata": {},
   "outputs": [
    {
     "data": {
      "text/plain": [
       "3908"
      ]
     },
     "execution_count": 7,
     "metadata": {},
     "output_type": "execute_result"
    }
   ],
   "source": [
    "df['听力分数'].count()"
   ]
  },
  {
   "cell_type": "markdown",
   "metadata": {},
   "source": [
    "### sum求和\n",
    "求和就是对某一区域中的所有数值进行加和操作  \n",
    "sum函数返回的是该数据表每一列的求和结果  \n",
    "`df.sum()`  \n",
    "sum()函数默认对每一列进行求和，可通过修改axis参数，让其等于1，来对每一行的数值进行求和操作  \n",
    "`df.sum(axis=1)`  \n",
    "也可把某一列或某一行索引出来，单独对这一列或这一行进行求和操作  \n",
    "`df['听力分数'].sum()`  \n",
    "`df[['听力分数','阅读分数','作文分数']].sum(axis=1)`"
   ]
  },
  {
   "cell_type": "code",
   "execution_count": 28,
   "metadata": {},
   "outputs": [
    {
     "data": {
      "text/plain": [
       "0       6.484365e+14\n",
       "1       6.484364e+14\n",
       "2       6.484366e+14\n",
       "3       6.484364e+14\n",
       "4       6.484366e+14\n",
       "            ...     \n",
       "3903    6.484364e+14\n",
       "3904    6.484365e+14\n",
       "3905    6.484366e+14\n",
       "3906    6.484365e+14\n",
       "3907    6.484364e+14\n",
       "Length: 3908, dtype: float64"
      ]
     },
     "execution_count": 28,
     "metadata": {},
     "output_type": "execute_result"
    }
   ],
   "source": [
    "df.sum(axis=1)"
   ]
  },
  {
   "cell_type": "code",
   "execution_count": 7,
   "metadata": {},
   "outputs": [
    {
     "data": {
      "text/plain": [
       "0       423\n",
       "1       297\n",
       "2       428\n",
       "3       417\n",
       "4       465\n",
       "       ... \n",
       "3903    366\n",
       "3904    350\n",
       "3905    407\n",
       "3906    359\n",
       "3907    365\n",
       "Length: 3908, dtype: int64"
      ]
     },
     "execution_count": 7,
     "metadata": {},
     "output_type": "execute_result"
    }
   ],
   "source": [
    "df[['听力分数','阅读分数','作文分数']].sum(axis=1)"
   ]
  },
  {
   "cell_type": "markdown",
   "metadata": {},
   "source": [
    "### mean求平均值"
   ]
  },
  {
   "cell_type": "markdown",
   "metadata": {},
   "source": [
    "求均值是针对某一区域中的所有值进行求算术平均值运算  "
   ]
  },
  {
   "cell_type": "code",
   "execution_count": 12,
   "metadata": {},
   "outputs": [
    {
     "data": {
      "text/plain": [
       "133.35747185261002"
      ]
     },
     "execution_count": 12,
     "metadata": {},
     "output_type": "execute_result"
    }
   ],
   "source": [
    "df['阅读分数'].mean()"
   ]
  },
  {
   "cell_type": "markdown",
   "metadata": {},
   "source": [
    "### max求最大值"
   ]
  },
  {
   "cell_type": "markdown",
   "metadata": {},
   "source": [
    "求最大值就是比较一组数据中所有数值的大小，然后返回最大的一个值  "
   ]
  },
  {
   "cell_type": "code",
   "execution_count": 22,
   "metadata": {},
   "outputs": [
    {
     "data": {
      "text/plain": [
       "听力分数    249\n",
       "阅读分数    249\n",
       "作文分数    198\n",
       "dtype: int64"
      ]
     },
     "execution_count": 22,
     "metadata": {},
     "output_type": "execute_result"
    }
   ],
   "source": [
    "df[['听力分数','阅读分数','作文分数']].max()"
   ]
  },
  {
   "cell_type": "code",
   "execution_count": 23,
   "metadata": {},
   "outputs": [
    {
     "data": {
      "text/plain": [
       "249"
      ]
     },
     "execution_count": 23,
     "metadata": {},
     "output_type": "execute_result"
    }
   ],
   "source": [
    "dfmax = df['听力分数'].max()\n",
    "dfmax"
   ]
  },
  {
   "cell_type": "markdown",
   "metadata": {},
   "source": [
    "### min求最小值 "
   ]
  },
  {
   "cell_type": "markdown",
   "metadata": {},
   "source": [
    "通过比较一组数据中所有数值的大小，然后返回最小的那个值  "
   ]
  },
  {
   "cell_type": "code",
   "execution_count": 26,
   "metadata": {},
   "outputs": [
    {
     "data": {
      "text/plain": [
       "0       135\n",
       "1        87\n",
       "2       130\n",
       "3       135\n",
       "4       146\n",
       "       ... \n",
       "3903     95\n",
       "3904    100\n",
       "3905    118\n",
       "3906    101\n",
       "3907    118\n",
       "Length: 3908, dtype: int64"
      ]
     },
     "execution_count": 26,
     "metadata": {},
     "output_type": "execute_result"
    }
   ],
   "source": [
    "df[['听力分数','阅读分数','作文分数']].min(axis=1)"
   ]
  },
  {
   "cell_type": "markdown",
   "metadata": {},
   "source": [
    "### median中位数"
   ]
  },
  {
   "cell_type": "markdown",
   "metadata": {},
   "source": [
    "中位数就是将一组含有n个数据的序列X从小到大排列，位于中间位置的那个数  "
   ]
  },
  {
   "cell_type": "code",
   "execution_count": 25,
   "metadata": {},
   "outputs": [
    {
     "data": {
      "text/plain": [
       "听力分数    130.0\n",
       "阅读分数    136.0\n",
       "作文分数    128.0\n",
       "dtype: float64"
      ]
     },
     "execution_count": 25,
     "metadata": {},
     "output_type": "execute_result"
    }
   ],
   "source": [
    "df[['听力分数','阅读分数','作文分数']].median()"
   ]
  },
  {
   "cell_type": "markdown",
   "metadata": {},
   "source": [
    "### mode求众数"
   ]
  },
  {
   "cell_type": "markdown",
   "metadata": {},
   "source": [
    "众数就是一组数据出现次数最多的数，求众数就是返回这组数据中出现次数最多的那个数  "
   ]
  },
  {
   "cell_type": "code",
   "execution_count": 19,
   "metadata": {},
   "outputs": [
    {
     "data": {
      "text/html": [
       "<div>\n",
       "<style scoped>\n",
       "    .dataframe tbody tr th:only-of-type {\n",
       "        vertical-align: middle;\n",
       "    }\n",
       "\n",
       "    .dataframe tbody tr th {\n",
       "        vertical-align: top;\n",
       "    }\n",
       "\n",
       "    .dataframe thead th {\n",
       "        text-align: right;\n",
       "    }\n",
       "</style>\n",
       "<table border=\"1\" class=\"dataframe\">\n",
       "  <thead>\n",
       "    <tr style=\"text-align: right;\">\n",
       "      <th></th>\n",
       "      <th>听力分数</th>\n",
       "      <th>阅读分数</th>\n",
       "      <th>作文分数</th>\n",
       "    </tr>\n",
       "  </thead>\n",
       "  <tbody>\n",
       "    <tr>\n",
       "      <th>0</th>\n",
       "      <td>130</td>\n",
       "      <td>0</td>\n",
       "      <td>0</td>\n",
       "    </tr>\n",
       "  </tbody>\n",
       "</table>\n",
       "</div>"
      ],
      "text/plain": [
       "   听力分数  阅读分数  作文分数\n",
       "0   130     0     0"
      ]
     },
     "execution_count": 19,
     "metadata": {},
     "output_type": "execute_result"
    }
   ],
   "source": [
    "df[['听力分数','阅读分数','作文分数']].mode()"
   ]
  },
  {
   "cell_type": "markdown",
   "metadata": {},
   "source": [
    "### var求方差"
   ]
  },
  {
   "cell_type": "markdown",
   "metadata": {},
   "source": [
    "方差是用来衡量一组数据的离散程度（即数据波动幅度）"
   ]
  },
  {
   "cell_type": "code",
   "execution_count": 29,
   "metadata": {},
   "outputs": [
    {
     "data": {
      "text/plain": [
       "听力分数    1520.413352\n",
       "阅读分数    1518.942312\n",
       "作文分数    1041.108354\n",
       "dtype: float64"
      ]
     },
     "execution_count": 29,
     "metadata": {},
     "output_type": "execute_result"
    }
   ],
   "source": [
    "df[['听力分数','阅读分数','作文分数']].var()"
   ]
  },
  {
   "cell_type": "markdown",
   "metadata": {},
   "source": [
    "### std求标准差"
   ]
  },
  {
   "cell_type": "markdown",
   "metadata": {},
   "source": [
    "标准差是方差的平方根，二者都是用来表示数据的离散程度的  "
   ]
  },
  {
   "cell_type": "code",
   "execution_count": 21,
   "metadata": {},
   "outputs": [
    {
     "data": {
      "text/plain": [
       "听力分数    38.992478\n",
       "阅读分数    38.973610\n",
       "作文分数    32.266211\n",
       "dtype: float64"
      ]
     },
     "execution_count": 21,
     "metadata": {},
     "output_type": "execute_result"
    }
   ],
   "source": [
    "df[['听力分数','阅读分数','作文分数']].std()"
   ]
  },
  {
   "cell_type": "markdown",
   "metadata": {},
   "source": [
    "### quantile求分位数"
   ]
  },
  {
   "cell_type": "markdown",
   "metadata": {},
   "source": [
    "分位数是比中位数更加详细的基于位置的指标，分位数主要有四分之一分位数、四分之二分位数、四分之三分位数，  \n",
    "而四分之二分位数就是中位数  \n",
    "Python求分位数用的是quantile(),要在quantile后的括号中指明要**求取的分位数**，  \n",
    "quantile()函数与其他函数的使用规则相同  "
   ]
  },
  {
   "cell_type": "code",
   "execution_count": 30,
   "metadata": {},
   "outputs": [
    {
     "data": {
      "text/plain": [
       "听力分数    130.0\n",
       "阅读分数    136.0\n",
       "作文分数    128.0\n",
       "Name: 0.5, dtype: float64"
      ]
     },
     "execution_count": 30,
     "metadata": {},
     "output_type": "execute_result"
    }
   ],
   "source": [
    "df[['听力分数','阅读分数','作文分数']].quantile(0.5)"
   ]
  },
  {
   "cell_type": "markdown",
   "metadata": {},
   "source": [
    "### corr相关性运算"
   ]
  },
  {
   "cell_type": "markdown",
   "metadata": {},
   "source": [
    "相关性常用来衡量两个事物之间的相关程度，比较常用的是皮尔逊相关系数  \n",
    "在python中求取相关系数用的是corr()函数  "
   ]
  },
  {
   "cell_type": "code",
   "execution_count": 31,
   "metadata": {},
   "outputs": [
    {
     "data": {
      "text/plain": [
       "0.7147435231316014"
      ]
     },
     "execution_count": 31,
     "metadata": {},
     "output_type": "execute_result"
    }
   ],
   "source": [
    "df['听力分数'].corr(df['阅读分数'])"
   ]
  },
  {
   "cell_type": "code",
   "execution_count": 32,
   "metadata": {},
   "outputs": [
    {
     "data": {
      "text/html": [
       "<div>\n",
       "<style scoped>\n",
       "    .dataframe tbody tr th:only-of-type {\n",
       "        vertical-align: middle;\n",
       "    }\n",
       "\n",
       "    .dataframe tbody tr th {\n",
       "        vertical-align: top;\n",
       "    }\n",
       "\n",
       "    .dataframe thead th {\n",
       "        text-align: right;\n",
       "    }\n",
       "</style>\n",
       "<table border=\"1\" class=\"dataframe\">\n",
       "  <thead>\n",
       "    <tr style=\"text-align: right;\">\n",
       "      <th></th>\n",
       "      <th>听力分数</th>\n",
       "      <th>阅读分数</th>\n",
       "      <th>作文分数</th>\n",
       "    </tr>\n",
       "  </thead>\n",
       "  <tbody>\n",
       "    <tr>\n",
       "      <th>听力分数</th>\n",
       "      <td>1.000000</td>\n",
       "      <td>0.714744</td>\n",
       "      <td>0.745162</td>\n",
       "    </tr>\n",
       "    <tr>\n",
       "      <th>阅读分数</th>\n",
       "      <td>0.714744</td>\n",
       "      <td>1.000000</td>\n",
       "      <td>0.798846</td>\n",
       "    </tr>\n",
       "    <tr>\n",
       "      <th>作文分数</th>\n",
       "      <td>0.745162</td>\n",
       "      <td>0.798846</td>\n",
       "      <td>1.000000</td>\n",
       "    </tr>\n",
       "  </tbody>\n",
       "</table>\n",
       "</div>"
      ],
      "text/plain": [
       "          听力分数      阅读分数      作文分数\n",
       "听力分数  1.000000  0.714744  0.745162\n",
       "阅读分数  0.714744  1.000000  0.798846\n",
       "作文分数  0.745162  0.798846  1.000000"
      ]
     },
     "execution_count": 32,
     "metadata": {},
     "output_type": "execute_result"
    }
   ],
   "source": [
    "df[['听力分数','阅读分数','作文分数']].corr()"
   ]
  },
  {
   "cell_type": "code",
   "execution_count": null,
   "metadata": {},
   "outputs": [],
   "source": []
  }
 ],
 "metadata": {
  "kernelspec": {
   "display_name": "Python 3",
   "language": "python",
   "name": "python3"
  },
  "language_info": {
   "codemirror_mode": {
    "name": "ipython",
    "version": 3
   },
   "file_extension": ".py",
   "mimetype": "text/x-python",
   "name": "python",
   "nbconvert_exporter": "python",
   "pygments_lexer": "ipython3",
   "version": "3.7.4"
  },
  "toc-autonumbering": true
 },
 "nbformat": 4,
 "nbformat_minor": 4
}
