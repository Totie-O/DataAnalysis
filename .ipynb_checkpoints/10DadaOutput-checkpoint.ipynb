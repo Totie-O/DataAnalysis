{
 "cells": [
  {
   "cell_type": "markdown",
   "metadata": {},
   "source": [
    "## 结果导出"
   ]
  },
  {
   "cell_type": "markdown",
   "metadata": {},
   "source": [
    "### 设置文件导出路径\n",
    "设置文件导出路径就是告诉Python要将这个文件导出到电脑的哪个文件夹里，且导出以后这个文件叫什么。  \n",
    "通过设置调整参数excel_writer的值即可实现  "
   ]
  },
  {
   "cell_type": "code",
   "execution_count": 19,
   "metadata": {},
   "outputs": [],
   "source": [
    "import pandas as pd\n",
    "\n",
    "df = pd.read_excel(r'datapool/search-grade.xlsx')"
   ]
  },
  {
   "cell_type": "code",
   "execution_count": 22,
   "metadata": {},
   "outputs": [],
   "source": [
    "df1 = df.sort_values(['专业','班级']).set_index(['专业','班级'])"
   ]
  },
  {
   "cell_type": "code",
   "execution_count": 25,
   "metadata": {},
   "outputs": [],
   "source": [
    "df2 = df1.reset_index()"
   ]
  },
  {
   "cell_type": "code",
   "execution_count": 60,
   "metadata": {},
   "outputs": [],
   "source": [
    "df3 = df2[df2['班级'] == '2018宝石及材料工艺学2班']\n",
    "df4 = df2[df2['班级'] == '2017机械工程2班']"
   ]
  },
  {
   "cell_type": "code",
   "execution_count": 30,
   "metadata": {},
   "outputs": [],
   "source": [
    "df3.to_excel(excel_writer = r'datapool/2018宝石及材料工艺学2班.xls')"
   ]
  },
  {
   "cell_type": "markdown",
   "metadata": {},
   "source": [
    "### 设置Sheet名称\n",
    "xls格式有多个Sheet，Sheet的默认名方式是Sheet后加阿拉伯数字，通常Sheet1往上递增，  \n",
    "我们可以对默认Sheet名字进行修改，只要修改Sheet_name参数即可  \n"
   ]
  },
  {
   "cell_type": "code",
   "execution_count": 31,
   "metadata": {},
   "outputs": [],
   "source": [
    "df3.to_excel(excel_writer = r'datapool/2018宝石及材料工艺学2班.xls',sheet_name = '18宝石2班')"
   ]
  },
  {
   "cell_type": "markdown",
   "metadata": {},
   "source": [
    "### 设置索引\n",
    "上面导出文件中关于索引的参数都是默认的，也就是没有对索引做什么限制，  \n",
    "但是我们可以看到index索引使用的是从0开始的默认自然数索引，这种索引是没有意义的  \n",
    "设置参数index=False就可以在导出时把这种索引去掉"
   ]
  },
  {
   "cell_type": "code",
   "execution_count": 40,
   "metadata": {},
   "outputs": [],
   "source": [
    "df3.to_excel(excel_writer = r'datapool/2018宝石及材料工艺学2班.xls',sheet_name = '18宝石2班',index=False)"
   ]
  },
  {
   "cell_type": "markdown",
   "metadata": {},
   "source": [
    "### 设置要导出的列\n",
    "有时候一个表的列数很多，我们并不需要把所有的列都导出，这个时候就可以通过设置columns参数来指定要导出的列，  \n",
    "这和导入时设置只导入部分列的原理类似  "
   ]
  },
  {
   "cell_type": "code",
   "execution_count": 41,
   "metadata": {},
   "outputs": [],
   "source": [
    "df3.to_excel(excel_writer = r'datapool/2018宝石及材料工艺学2班.xls',sheet_name = '18宝石2班（简）',index=False,columns=['姓名','学号','班级','笔试成绩总分'])"
   ]
  },
  {
   "cell_type": "markdown",
   "metadata": {},
   "source": [
    "### 设置编码格式  \n",
    "我们在导入文件时需要设置编码格式，导出文件的时候同样也需要，  \n",
    "修改编码格式的参数与导入文件时的一致，也使用encoding，encoding参数值一般选择'uft-8'  "
   ]
  },
  {
   "cell_type": "code",
   "execution_count": 46,
   "metadata": {},
   "outputs": [],
   "source": [
    "df3.to_excel(excel_writer = r'datapool/2018宝石及材料工艺学2班.xls',sheet_name = '18宝石2班（简）',index=False,columns=['姓名','学号','班级','笔试成绩总分'],encoding='utf-8')"
   ]
  },
  {
   "cell_type": "markdown",
   "metadata": {},
   "source": [
    "### 缺失值处理\n",
    "在前面的数据预处理过程中已经处理了缺失值，但是在数据分析过程中可能会产生一些缺失值，  \n",
    "如果在导出的时候，数据表中有缺失值，如果在导出的时候，数据表中有缺失值，  \n",
    "那么就要对表中的缺失值进行填充，使用的参数为na_rep"
   ]
  },
  {
   "cell_type": "code",
   "execution_count": 47,
   "metadata": {},
   "outputs": [],
   "source": [
    "df3.to_excel(excel_writer = r'datapool/2018宝石及材料工艺学2班.xls',\n",
    "             sheet_name = '18宝石2班（简)',\n",
    "             index=False,\n",
    "             columns=['姓名','学号','班级','笔试成绩总分'],\n",
    "             encoding='utf-8',\n",
    "             na_rep = 0 #缺失值填充为0\n",
    "            )"
   ]
  },
  {
   "cell_type": "markdown",
   "metadata": {},
   "source": [
    "### 无穷值处理\n",
    "无穷值（inf）与缺失值（Nan）都是异常数据，当你用一个浮点数除以0时，  \n",
    "就会得到一个无穷值，无穷值的存在会导致接下来的计算报错，所以需要对无穷值进行处理  "
   ]
  },
  {
   "cell_type": "code",
   "execution_count": 48,
   "metadata": {},
   "outputs": [
    {
     "data": {
      "text/plain": [
       "inf"
      ]
     },
     "execution_count": 48,
     "metadata": {},
     "output_type": "execute_result"
    }
   ],
   "source": [
    "float('inf')"
   ]
  },
  {
   "cell_type": "code",
   "execution_count": 49,
   "metadata": {},
   "outputs": [
    {
     "data": {
      "text/plain": [
       "-inf"
      ]
     },
     "execution_count": 49,
     "metadata": {},
     "output_type": "execute_result"
    }
   ],
   "source": [
    "float('-inf')"
   ]
  },
  {
   "cell_type": "markdown",
   "metadata": {},
   "source": [
    "下面的数据表中含有inf值，要把inf值替换掉，就要设置inf_rep的值  "
   ]
  },
  {
   "cell_type": "code",
   "execution_count": 53,
   "metadata": {},
   "outputs": [],
   "source": [
    "df3.to_excel(excel_writer = r'datapool/2018宝石及材料工艺学2班.xls',\n",
    "             sheet_name = '18宝石2班（简)',\n",
    "             index=False,\n",
    "             columns=['姓名','学号','班级','笔试成绩总分'],\n",
    "             encoding='utf-8',\n",
    "             na_rep = 0,  #缺失值填充为0\n",
    "             inf_rep = 0 #无穷值填充为0\n",
    "            )"
   ]
  },
  {
   "cell_type": "markdown",
   "metadata": {},
   "source": [
    "```python\n",
    "df.to_csv(path_or_buf = r'datapool/导出文档.csv',\n",
    "          index = False,\n",
    "          columns = ['班级','姓名','听力分数','阅读分数','作文分数','笔试成绩总分']\n",
    "          sep = ','\n",
    "          na_rep = 0\n",
    "          encoding = 'utf-8-sig'\n",
    "```"
   ]
  },
  {
   "cell_type": "markdown",
   "metadata": {},
   "source": [
    "### 将文件导出到多个Sheet"
   ]
  },
  {
   "cell_type": "code",
   "execution_count": 72,
   "metadata": {},
   "outputs": [],
   "source": [
    "import pandas as pd\n",
    "\n",
    "writer = pd.ExcelWriter(r'datapool/18宝石17机械.xls',engine = 'xlwt')\n",
    "df3.to_excel(writer,sheet_name = '18宝石材料2班')\n",
    "df4.to_excel(writer,sheet_name = '17机械工程2班')\n",
    "writer.save()"
   ]
  },
  {
   "cell_type": "code",
   "execution_count": null,
   "metadata": {},
   "outputs": [],
   "source": []
  }
 ],
 "metadata": {
  "kernelspec": {
   "display_name": "Python 3",
   "language": "python",
   "name": "python3"
  },
  "language_info": {
   "codemirror_mode": {
    "name": "ipython",
    "version": 3
   },
   "file_extension": ".py",
   "mimetype": "text/x-python",
   "name": "python",
   "nbconvert_exporter": "python",
   "pygments_lexer": "ipython3",
   "version": "3.7.4"
  }
 },
 "nbformat": 4,
 "nbformat_minor": 4
}
