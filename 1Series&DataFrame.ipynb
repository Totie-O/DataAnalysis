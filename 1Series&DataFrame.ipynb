{
 "cells": [
  {
   "cell_type": "markdown",
   "metadata": {},
   "source": [
    "## Series的基本知识以及基本用法"
   ]
  },
  {
   "cell_type": "markdown",
   "metadata": {},
   "source": [
    "`pd.Series(data=None,index=None,dtype=None,name=None,copy=False,fastpath=False)`"
   ]
  },
  {
   "cell_type": "code",
   "execution_count": 1,
   "metadata": {},
   "outputs": [],
   "source": [
    "import pandas as pd\n",
    "S1 = pd.Series(['a', 'b', 'c', 'd'])\n",
    "S2 = pd.Series([1,2,3,4],index = ['a','b','c','d'])\n",
    "S3 = pd.Series({'a':1, 'b':2, 'c':3, 'd':4})\n",
    "S4 = pd.Series({'a':1, 'b':2, 'c':3}, index=['b','c','a'])\n",
    "S5 = pd.Series(('a', 'b', 'c', 'd'))"
   ]
  },
  {
   "cell_type": "code",
   "execution_count": 4,
   "metadata": {},
   "outputs": [
    {
     "data": {
      "text/plain": [
       "b    2\n",
       "c    3\n",
       "a    1\n",
       "dtype: int64"
      ]
     },
     "execution_count": 4,
     "metadata": {},
     "output_type": "execute_result"
    }
   ],
   "source": [
    "S4"
   ]
  },
  {
   "cell_type": "code",
   "execution_count": 5,
   "metadata": {},
   "outputs": [
    {
     "name": "stdout",
     "output_type": "stream",
     "text": [
      "RangeIndex(start=0, stop=4, step=1)\n",
      "[2 3 1]\n"
     ]
    }
   ],
   "source": [
    "print(S1.index)\n",
    "print(S4.values)"
   ]
  },
  {
   "cell_type": "code",
   "execution_count": 21,
   "metadata": {},
   "outputs": [
    {
     "name": "stdout",
     "output_type": "stream",
     "text": [
      "{'a': [1, 2], 'b': [3, 4], 'c': [3, 4], 'd': 4}\n"
     ]
    }
   ],
   "source": [
    "dict1 = {'a':[1,2], 'b':[3,4], 'c':[3,4], 'd':4}\n",
    "S6 = pd.Series(dict1)\n",
    "print(dict1)"
   ]
  },
  {
   "cell_type": "markdown",
   "metadata": {},
   "source": [
    "一维数组，只有简单的值，但可以用index定义它每一个值的索引值  \n",
    "直接在`pd.Series(data)`里面传入data的值，就可以生成一个一维数组  "
   ]
  },
  {
   "cell_type": "markdown",
   "metadata": {},
   "source": [
    "传入的值不止限制于列表list，还可以传入元组tuple，还可以传入字典dict  \n",
    "**因为集合set是unorder的，所以不能把它传给Series**  \n",
    "传入字典dict给Series时，字典的键`key`做为索引，字典的值`value`做为值，还可以通过字典的键`key`指定索引顺序  "
   ]
  },
  {
   "cell_type": "markdown",
   "metadata": {},
   "source": [
    "可以用`index`属性查询Series的索引  \n",
    "也可以用`values`属性查询Series的值  "
   ]
  },
  {
   "cell_type": "markdown",
   "metadata": {},
   "source": [
    "## DataFrame的基本知识以及基本用法"
   ]
  },
  {
   "cell_type": "markdown",
   "metadata": {},
   "source": [
    "`pd.DataFrame(data=None,index=None,columns=None,dtype=None,copy=False)`"
   ]
  },
  {
   "cell_type": "code",
   "execution_count": 32,
   "metadata": {},
   "outputs": [
    {
     "data": {
      "text/html": [
       "<div>\n",
       "<style scoped>\n",
       "    .dataframe tbody tr th:only-of-type {\n",
       "        vertical-align: middle;\n",
       "    }\n",
       "\n",
       "    .dataframe tbody tr th {\n",
       "        vertical-align: top;\n",
       "    }\n",
       "\n",
       "    .dataframe thead th {\n",
       "        text-align: right;\n",
       "    }\n",
       "</style>\n",
       "<table border=\"1\" class=\"dataframe\">\n",
       "  <thead>\n",
       "    <tr style=\"text-align: right;\">\n",
       "      <th></th>\n",
       "      <th>小写</th>\n",
       "      <th>大写</th>\n",
       "    </tr>\n",
       "  </thead>\n",
       "  <tbody>\n",
       "    <tr>\n",
       "      <th>一</th>\n",
       "      <td>a</td>\n",
       "      <td>A</td>\n",
       "    </tr>\n",
       "    <tr>\n",
       "      <th>二</th>\n",
       "      <td>b</td>\n",
       "      <td>B</td>\n",
       "    </tr>\n",
       "    <tr>\n",
       "      <th>三</th>\n",
       "      <td>c</td>\n",
       "      <td>C</td>\n",
       "    </tr>\n",
       "    <tr>\n",
       "      <th>四</th>\n",
       "      <td>d</td>\n",
       "      <td>D</td>\n",
       "    </tr>\n",
       "  </tbody>\n",
       "</table>\n",
       "</div>"
      ],
      "text/plain": [
       "  小写 大写\n",
       "一  a  A\n",
       "二  b  B\n",
       "三  c  C\n",
       "四  d  D"
      ]
     },
     "execution_count": 32,
     "metadata": {},
     "output_type": "execute_result"
    }
   ],
   "source": [
    "df1 = pd.DataFrame([['a','A'],['b','B'],['c','C'],['d','D']],columns=['小写','大写'],index=['一','二','三','四'])\n",
    "df1"
   ]
  },
  {
   "cell_type": "markdown",
   "metadata": {},
   "source": [
    "直接传入一组值时，相对比Series，多了一个`columns`属性  \n",
    "可传入列表`list`,`dict`,`tuple`  \n",
    "可以指定索引`index`,还可以指定行`columns`"
   ]
  },
  {
   "cell_type": "code",
   "execution_count": 34,
   "metadata": {},
   "outputs": [
    {
     "data": {
      "text/html": [
       "<div>\n",
       "<style scoped>\n",
       "    .dataframe tbody tr th:only-of-type {\n",
       "        vertical-align: middle;\n",
       "    }\n",
       "\n",
       "    .dataframe tbody tr th {\n",
       "        vertical-align: top;\n",
       "    }\n",
       "\n",
       "    .dataframe thead th {\n",
       "        text-align: right;\n",
       "    }\n",
       "</style>\n",
       "<table border=\"1\" class=\"dataframe\">\n",
       "  <thead>\n",
       "    <tr style=\"text-align: right;\">\n",
       "      <th></th>\n",
       "      <th>小写</th>\n",
       "      <th>大写</th>\n",
       "    </tr>\n",
       "  </thead>\n",
       "  <tbody>\n",
       "    <tr>\n",
       "      <th>一</th>\n",
       "      <td>a</td>\n",
       "      <td>A</td>\n",
       "    </tr>\n",
       "    <tr>\n",
       "      <th>二</th>\n",
       "      <td>b</td>\n",
       "      <td>B</td>\n",
       "    </tr>\n",
       "    <tr>\n",
       "      <th>三</th>\n",
       "      <td>c</td>\n",
       "      <td>C</td>\n",
       "    </tr>\n",
       "    <tr>\n",
       "      <th>四</th>\n",
       "      <td>d</td>\n",
       "      <td>D</td>\n",
       "    </tr>\n",
       "  </tbody>\n",
       "</table>\n",
       "</div>"
      ],
      "text/plain": [
       "  小写 大写\n",
       "一  a  A\n",
       "二  b  B\n",
       "三  c  C\n",
       "四  d  D"
      ]
     },
     "execution_count": 34,
     "metadata": {},
     "output_type": "execute_result"
    }
   ],
   "source": [
    "data = {'小写':['a','b','c','d'],'大写':['A','B','C','D']}\n",
    "df2 = pd.DataFrame(data,index=['一','二','三','四'])\n",
    "df2"
   ]
  },
  {
   "cell_type": "markdown",
   "metadata": {},
   "source": [
    "当传入的数据是字典`dict`的类型时，键值`key`做为columns，还可以另外指定索引`index`，跟Series一样的使用方式  "
   ]
  },
  {
   "cell_type": "markdown",
   "metadata": {},
   "source": [
    "DataFrame跟Series一样，可以使用`index`属性   \n",
    "不一样的区别的地方是DataFrame多了Series一个`columns`属性"
   ]
  },
  {
   "cell_type": "code",
   "execution_count": 38,
   "metadata": {},
   "outputs": [
    {
     "name": "stdout",
     "output_type": "stream",
     "text": [
      "Index(['小写', '大写'], dtype='object')\n",
      "Index(['一', '二', '三', '四'], dtype='object')\n"
     ]
    }
   ],
   "source": [
    "print(df2.columns)\n",
    "print(df2.index)"
   ]
  },
  {
   "cell_type": "markdown",
   "metadata": {},
   "source": [
    "## DataFrame对于散列值的应用"
   ]
  },
  {
   "cell_type": "markdown",
   "metadata": {},
   "source": [
    "假定给定一张表格，从这个表格取出想要的值，然后定义一个dict数据结构，再转换为一个DataFrame类型的表格  \n",
    "从一个表不同位置取出需要的数据，重新定义一个数据格式，不断汇总，迭代  "
   ]
  },
  {
   "cell_type": "code",
   "execution_count": 33,
   "metadata": {},
   "outputs": [
    {
     "data": {
      "text/html": [
       "<div>\n",
       "<style scoped>\n",
       "    .dataframe tbody tr th:only-of-type {\n",
       "        vertical-align: middle;\n",
       "    }\n",
       "\n",
       "    .dataframe tbody tr th {\n",
       "        vertical-align: top;\n",
       "    }\n",
       "\n",
       "    .dataframe thead th {\n",
       "        text-align: right;\n",
       "    }\n",
       "</style>\n",
       "<table border=\"1\" class=\"dataframe\">\n",
       "  <thead>\n",
       "    <tr style=\"text-align: right;\">\n",
       "      <th></th>\n",
       "      <th>课程</th>\n",
       "      <th>考试时间</th>\n",
       "      <th>班级</th>\n",
       "      <th>考试教室</th>\n",
       "    </tr>\n",
       "  </thead>\n",
       "  <tbody>\n",
       "    <tr>\n",
       "      <th>0</th>\n",
       "      <td>财务管理学</td>\n",
       "      <td>17周周一（6月21日）上午9:00-11:00</td>\n",
       "      <td>19财管1</td>\n",
       "      <td>4-311</td>\n",
       "    </tr>\n",
       "    <tr>\n",
       "      <th>1</th>\n",
       "      <td>F5业绩管理</td>\n",
       "      <td>17周周五（6月25日）上午9:00-11:00</td>\n",
       "      <td>19财管ACCA</td>\n",
       "      <td>4-211</td>\n",
       "    </tr>\n",
       "  </tbody>\n",
       "</table>\n",
       "</div>"
      ],
      "text/plain": [
       "       课程                      考试时间        班级   考试教室\n",
       "0   财务管理学  17周周一（6月21日）上午9:00-11:00     19财管1  4-311\n",
       "1  F5业绩管理  17周周五（6月25日）上午9:00-11:00  19财管ACCA  4-211"
      ]
     },
     "execution_count": 33,
     "metadata": {},
     "output_type": "execute_result"
    }
   ],
   "source": [
    "import pandas as pd\n",
    "\n",
    "df = pd.read_excel('./datapool/期末考试安排（商学院）.xlsx',sheet_name = 2, header = None)\n",
    "\n",
    "dict1 = {}\n",
    "dict1['课程'] = df.iloc[2,1]\n",
    "dict1['考试时间'] = df.iloc[2,0]\n",
    "dict1['班级'] = df.iloc[2,2]\n",
    "dict1['考试教室'] = df.iloc[2,4]\n",
    "\n",
    "dict2 = {}\n",
    "dict2['课程'] = df.iloc[9,1]\n",
    "dict2['考试时间'] = df.iloc[9,0]\n",
    "dict2['班级'] = df.iloc[9,2]\n",
    "dict2['考试教室'] = df.iloc[9,4]\n",
    "\n",
    "lst = []\n",
    "lst.append(dict1)\n",
    "lst.append(dict2)\n",
    "\n",
    "df1 = pd.DataFrame(lst)\n",
    "\n",
    "df1"
   ]
  },
  {
   "cell_type": "code",
   "execution_count": null,
   "metadata": {},
   "outputs": [],
   "source": []
  }
 ],
 "metadata": {
  "kernelspec": {
   "display_name": "Python 3",
   "language": "python",
   "name": "python3"
  },
  "language_info": {
   "codemirror_mode": {
    "name": "ipython",
    "version": 3
   },
   "file_extension": ".py",
   "mimetype": "text/x-python",
   "name": "python",
   "nbconvert_exporter": "python",
   "pygments_lexer": "ipython3",
   "version": "3.7.4"
  },
  "toc-autonumbering": true
 },
 "nbformat": 4,
 "nbformat_minor": 4
}
