{
 "cells": [
  {
   "cell_type": "markdown",
   "metadata": {},
   "source": [
    "## 时间序列"
   ]
  },
  {
   "cell_type": "code",
   "execution_count": 5,
   "metadata": {},
   "outputs": [
    {
     "name": "stdout",
     "output_type": "stream",
     "text": [
      "2021-07-05 12:42:50.449642 <class 'datetime.datetime'>\n",
      "2021 7 5\n"
     ]
    }
   ],
   "source": [
    "from datetime import datetime\n",
    "\n",
    "t = datetime.now()\n",
    "print(t, type(t))\n",
    "print(t.year,t.month,t.day)"
   ]
  },
  {
   "cell_type": "code",
   "execution_count": 6,
   "metadata": {},
   "outputs": [
    {
     "name": "stdout",
     "output_type": "stream",
     "text": [
      "2021年07月05日\n"
     ]
    },
    {
     "data": {
      "text/plain": [
       "datetime.datetime"
      ]
     },
     "execution_count": 6,
     "metadata": {},
     "output_type": "execute_result"
    }
   ],
   "source": [
    "import locale\n",
    "from datetime import datetime\n",
    "\n",
    "locale.setlocale(locale.LC_CTYPE, 'chinese')\n",
    "t = datetime.now()\n",
    "print(t.strftime('%Y年%m月%d日'))\n",
    "type(t)"
   ]
  },
  {
   "cell_type": "code",
   "execution_count": 7,
   "metadata": {},
   "outputs": [
    {
     "name": "stdout",
     "output_type": "stream",
     "text": [
      "2021年年有今日07岁岁有今朝05日日有佳年\n"
     ]
    }
   ],
   "source": [
    "f = t.strftime('%Y年年有今日%m岁岁有今朝%d日日有佳年')\n",
    "print(f)"
   ]
  },
  {
   "cell_type": "code",
   "execution_count": 8,
   "metadata": {},
   "outputs": [
    {
     "data": {
      "text/plain": [
       "1"
      ]
     },
     "execution_count": 8,
     "metadata": {},
     "output_type": "execute_result"
    }
   ],
   "source": [
    "t.weekday() + 1 #Python中几周从0开始数的，周日返回的是6，所以在后面加1"
   ]
  },
  {
   "cell_type": "code",
   "execution_count": 9,
   "metadata": {},
   "outputs": [
    {
     "data": {
      "text/plain": [
       "(2021, 27, 1)"
      ]
     },
     "execution_count": 9,
     "metadata": {},
     "output_type": "execute_result"
    }
   ],
   "source": [
    "t.isocalendar() #返回当前所在周的周数，以及周几"
   ]
  },
  {
   "cell_type": "code",
   "execution_count": 10,
   "metadata": {},
   "outputs": [
    {
     "name": "stdout",
     "output_type": "stream",
     "text": [
      "27 1\n"
     ]
    }
   ],
   "source": [
    "weeknum = t.isocalendar()[1]\n",
    "weekday = t.isocalendar()[2]\n",
    "print(weeknum,weekday)"
   ]
  },
  {
   "cell_type": "code",
   "execution_count": 11,
   "metadata": {},
   "outputs": [
    {
     "name": "stdout",
     "output_type": "stream",
     "text": [
      "2021-07-05 12:42:51.201545\n"
     ]
    }
   ],
   "source": [
    "print(t.date(),t.time())"
   ]
  },
  {
   "cell_type": "markdown",
   "metadata": {},
   "source": [
    "借助strftime()函数可以自定义时间和日期格式，  \n",
    "strftime()函数是将日期和时间的格式转化为某些自定义的格式"
   ]
  },
  {
   "cell_type": "code",
   "execution_count": 12,
   "metadata": {},
   "outputs": [
    {
     "name": "stdout",
     "output_type": "stream",
     "text": [
      "2021-07-05 12:42:51.201545\n"
     ]
    }
   ],
   "source": [
    "i = t.date()\n",
    "ii = t.time()\n",
    "print(i,ii)"
   ]
  },
  {
   "cell_type": "code",
   "execution_count": 15,
   "metadata": {},
   "outputs": [
    {
     "name": "stdout",
     "output_type": "stream",
     "text": [
      "2021年07月05日 12时：42分：51秒 <class 'str'>\n"
     ]
    }
   ],
   "source": [
    "from datetime import datetime\n",
    "\n",
    "I = t.strftime('%Y年%m月%d日 %H时：%M分：%S秒')\n",
    "print(I,type(I))"
   ]
  },
  {
   "cell_type": "code",
   "execution_count": 23,
   "metadata": {},
   "outputs": [
    {
     "name": "stdout",
     "output_type": "stream",
     "text": [
      "2021年07月05日 00时:00分:00秒 <class 'str'>\n"
     ]
    }
   ],
   "source": [
    "from datetime import datetime \n",
    "import locale\n",
    "\n",
    "locale.setlocale(locale.LC_CTYPE, 'chinese')\n",
    "I = i.strftime('%Y年%m月%d日 %H时:%M分:%S秒')\n",
    "print(I,type(I))"
   ]
  },
  {
   "cell_type": "code",
   "execution_count": 24,
   "metadata": {},
   "outputs": [
    {
     "name": "stdout",
     "output_type": "stream",
     "text": [
      "2021-07-05 00:00:00 <class 'datetime.datetime'>\n"
     ]
    }
   ],
   "source": [
    "h = datetime.strptime(I, '%Y年%m月%d日 %H时:%M分:%S秒')\n",
    "print(h,type(h))"
   ]
  },
  {
   "cell_type": "code",
   "execution_count": 42,
   "metadata": {},
   "outputs": [
    {
     "name": "stdout",
     "output_type": "stream",
     "text": [
      "<class 'datetime.datetime'>\n"
     ]
    }
   ],
   "source": [
    "from dateutil.parser import parse\n",
    "\n",
    "str_time = '2018-10-14'\n",
    "parse(str_time)\n",
    "print(type(parse(str_time)))"
   ]
  },
  {
   "cell_type": "markdown",
   "metadata": {},
   "source": [
    "### 时间索引"
   ]
  },
  {
   "cell_type": "markdown",
   "metadata": {},
   "source": [
    "时间索引就是根据时间来对时间格式的字段进行数据选取的一种索引方式  "
   ]
  },
  {
   "cell_type": "code",
   "execution_count": 28,
   "metadata": {},
   "outputs": [
    {
     "data": {
      "text/plain": [
       "dtype('<M8[ns]')"
      ]
     },
     "execution_count": 28,
     "metadata": {},
     "output_type": "execute_result"
    }
   ],
   "source": [
    "import pandas as pd \n",
    "\n",
    "df1 = pd.read_excel('./datapool/岭南师范学院第二针.xls')\n",
    "df1['出生日期'] = df1['出生日期'].astype('datetime64[ns]')\n",
    "df1['出生日期'].dtype"
   ]
  },
  {
   "cell_type": "code",
   "execution_count": 31,
   "metadata": {},
   "outputs": [
    {
     "data": {
      "text/html": [
       "<div>\n",
       "<style scoped>\n",
       "    .dataframe tbody tr th:only-of-type {\n",
       "        vertical-align: middle;\n",
       "    }\n",
       "\n",
       "    .dataframe tbody tr th {\n",
       "        vertical-align: top;\n",
       "    }\n",
       "\n",
       "    .dataframe thead th {\n",
       "        text-align: right;\n",
       "    }\n",
       "</style>\n",
       "<table border=\"1\" class=\"dataframe\">\n",
       "  <thead>\n",
       "    <tr style=\"text-align: right;\">\n",
       "      <th></th>\n",
       "      <th>序号</th>\n",
       "      <th>地市</th>\n",
       "      <th>县区</th>\n",
       "      <th>接种单位</th>\n",
       "      <th>姓名</th>\n",
       "      <th>性别</th>\n",
       "      <th>工作单位</th>\n",
       "      <th>人群分类</th>\n",
       "      <th>第一剂时间</th>\n",
       "      <th>第一剂厂家</th>\n",
       "      <th>第二剂时间</th>\n",
       "      <th>第二剂厂家</th>\n",
       "    </tr>\n",
       "    <tr>\n",
       "      <th>出生日期</th>\n",
       "      <th></th>\n",
       "      <th></th>\n",
       "      <th></th>\n",
       "      <th></th>\n",
       "      <th></th>\n",
       "      <th></th>\n",
       "      <th></th>\n",
       "      <th></th>\n",
       "      <th></th>\n",
       "      <th></th>\n",
       "      <th></th>\n",
       "      <th></th>\n",
       "    </tr>\n",
       "  </thead>\n",
       "  <tbody>\n",
       "    <tr>\n",
       "      <th>1973-12-27</th>\n",
       "      <td>154</td>\n",
       "      <td>湛江市</td>\n",
       "      <td>赤坎区</td>\n",
       "      <td>湛江中心人民医院岭师流动点</td>\n",
       "      <td>葛在波</td>\n",
       "      <td>男</td>\n",
       "      <td>岭南师范学院</td>\n",
       "      <td>教育工作者</td>\n",
       "      <td>2021-04-01</td>\n",
       "      <td>北京科兴中维</td>\n",
       "      <td>NaN</td>\n",
       "      <td>NaN</td>\n",
       "    </tr>\n",
       "    <tr>\n",
       "      <th>1977-04-15</th>\n",
       "      <td>92</td>\n",
       "      <td>湛江市</td>\n",
       "      <td>赤坎区</td>\n",
       "      <td>湛江中心人民医院岭师流动点</td>\n",
       "      <td>朱习文</td>\n",
       "      <td>男</td>\n",
       "      <td>岭南师范学院</td>\n",
       "      <td>教育工作者</td>\n",
       "      <td>2021-04-01</td>\n",
       "      <td>北京科兴中维</td>\n",
       "      <td>NaN</td>\n",
       "      <td>NaN</td>\n",
       "    </tr>\n",
       "    <tr>\n",
       "      <th>1994-08-25</th>\n",
       "      <td>140</td>\n",
       "      <td>湛江市</td>\n",
       "      <td>赤坎区</td>\n",
       "      <td>湛江中心人民医院岭师流动点</td>\n",
       "      <td>钟东亮</td>\n",
       "      <td>男</td>\n",
       "      <td>岭南师范学院</td>\n",
       "      <td>高等教育院校学生</td>\n",
       "      <td>2021-04-01</td>\n",
       "      <td>北京科兴中维</td>\n",
       "      <td>NaN</td>\n",
       "      <td>NaN</td>\n",
       "    </tr>\n",
       "    <tr>\n",
       "      <th>1995-10-28</th>\n",
       "      <td>103</td>\n",
       "      <td>湛江市</td>\n",
       "      <td>赤坎区</td>\n",
       "      <td>湛江中心人民医院岭师流动点</td>\n",
       "      <td>梁雪娟</td>\n",
       "      <td>女</td>\n",
       "      <td>湛江师范学校</td>\n",
       "      <td>高等教育院校学生</td>\n",
       "      <td>2021-04-01</td>\n",
       "      <td>北京科兴中维</td>\n",
       "      <td>NaN</td>\n",
       "      <td>NaN</td>\n",
       "    </tr>\n",
       "    <tr>\n",
       "      <th>1996-09-27</th>\n",
       "      <td>21</td>\n",
       "      <td>湛江市</td>\n",
       "      <td>赤坎区</td>\n",
       "      <td>湛江中心人民医院岭师流动点</td>\n",
       "      <td>邓笑笑</td>\n",
       "      <td>女</td>\n",
       "      <td>岭南师范学院</td>\n",
       "      <td>高等教育院校学生</td>\n",
       "      <td>2021-03-29</td>\n",
       "      <td>北京生物</td>\n",
       "      <td>NaN</td>\n",
       "      <td>NaN</td>\n",
       "    </tr>\n",
       "  </tbody>\n",
       "</table>\n",
       "</div>"
      ],
      "text/plain": [
       "             序号   地市   县区           接种单位   姓名 性别    工作单位      人群分类  \\\n",
       "出生日期                                                                 \n",
       "1973-12-27  154  湛江市  赤坎区  湛江中心人民医院岭师流动点  葛在波  男  岭南师范学院     教育工作者   \n",
       "1977-04-15   92  湛江市  赤坎区  湛江中心人民医院岭师流动点  朱习文  男  岭南师范学院     教育工作者   \n",
       "1994-08-25  140  湛江市  赤坎区  湛江中心人民医院岭师流动点  钟东亮  男  岭南师范学院  高等教育院校学生   \n",
       "1995-10-28  103  湛江市  赤坎区  湛江中心人民医院岭师流动点  梁雪娟  女  湛江师范学校  高等教育院校学生   \n",
       "1996-09-27   21  湛江市  赤坎区  湛江中心人民医院岭师流动点  邓笑笑  女  岭南师范学院  高等教育院校学生   \n",
       "\n",
       "                 第一剂时间   第一剂厂家  第二剂时间  第二剂厂家  \n",
       "出生日期                                          \n",
       "1973-12-27  2021-04-01  北京科兴中维    NaN    NaN  \n",
       "1977-04-15  2021-04-01  北京科兴中维    NaN    NaN  \n",
       "1994-08-25  2021-04-01  北京科兴中维    NaN    NaN  \n",
       "1995-10-28  2021-04-01  北京科兴中维    NaN    NaN  \n",
       "1996-09-27  2021-03-29    北京生物    NaN    NaN  "
      ]
     },
     "execution_count": 31,
     "metadata": {},
     "output_type": "execute_result"
    }
   ],
   "source": [
    "df2 = df1.sort_values(by='出生日期') \n",
    "df3 = df2.set_index(['出生日期'])\n",
    "df3[:datetime(1997,12,30)].head()"
   ]
  },
  {
   "cell_type": "code",
   "execution_count": 33,
   "metadata": {},
   "outputs": [
    {
     "data": {
      "text/html": [
       "<div>\n",
       "<style scoped>\n",
       "    .dataframe tbody tr th:only-of-type {\n",
       "        vertical-align: middle;\n",
       "    }\n",
       "\n",
       "    .dataframe tbody tr th {\n",
       "        vertical-align: top;\n",
       "    }\n",
       "\n",
       "    .dataframe thead th {\n",
       "        text-align: right;\n",
       "    }\n",
       "</style>\n",
       "<table border=\"1\" class=\"dataframe\">\n",
       "  <thead>\n",
       "    <tr style=\"text-align: right;\">\n",
       "      <th></th>\n",
       "      <th>序号</th>\n",
       "      <th>地市</th>\n",
       "      <th>县区</th>\n",
       "      <th>接种单位</th>\n",
       "      <th>姓名</th>\n",
       "      <th>性别</th>\n",
       "      <th>工作单位</th>\n",
       "      <th>人群分类</th>\n",
       "      <th>第一剂时间</th>\n",
       "      <th>第一剂厂家</th>\n",
       "      <th>第二剂时间</th>\n",
       "      <th>第二剂厂家</th>\n",
       "    </tr>\n",
       "    <tr>\n",
       "      <th>出生日期</th>\n",
       "      <th></th>\n",
       "      <th></th>\n",
       "      <th></th>\n",
       "      <th></th>\n",
       "      <th></th>\n",
       "      <th></th>\n",
       "      <th></th>\n",
       "      <th></th>\n",
       "      <th></th>\n",
       "      <th></th>\n",
       "      <th></th>\n",
       "      <th></th>\n",
       "    </tr>\n",
       "  </thead>\n",
       "  <tbody>\n",
       "    <tr>\n",
       "      <th>1996-09-27</th>\n",
       "      <td>21</td>\n",
       "      <td>湛江市</td>\n",
       "      <td>赤坎区</td>\n",
       "      <td>湛江中心人民医院岭师流动点</td>\n",
       "      <td>邓笑笑</td>\n",
       "      <td>女</td>\n",
       "      <td>岭南师范学院</td>\n",
       "      <td>高等教育院校学生</td>\n",
       "      <td>2021-03-29</td>\n",
       "      <td>北京生物</td>\n",
       "      <td>NaN</td>\n",
       "      <td>NaN</td>\n",
       "    </tr>\n",
       "    <tr>\n",
       "      <th>1996-12-12</th>\n",
       "      <td>105</td>\n",
       "      <td>湛江市</td>\n",
       "      <td>赤坎区</td>\n",
       "      <td>湛江中心人民医院岭师流动点</td>\n",
       "      <td>莫志心</td>\n",
       "      <td>男</td>\n",
       "      <td>岭南师范学院</td>\n",
       "      <td>高等教育院校学生</td>\n",
       "      <td>2021-04-01</td>\n",
       "      <td>北京科兴中维</td>\n",
       "      <td>NaN</td>\n",
       "      <td>NaN</td>\n",
       "    </tr>\n",
       "  </tbody>\n",
       "</table>\n",
       "</div>"
      ],
      "text/plain": [
       "             序号   地市   县区           接种单位   姓名 性别    工作单位      人群分类  \\\n",
       "出生日期                                                                 \n",
       "1996-09-27   21  湛江市  赤坎区  湛江中心人民医院岭师流动点  邓笑笑  女  岭南师范学院  高等教育院校学生   \n",
       "1996-12-12  105  湛江市  赤坎区  湛江中心人民医院岭师流动点  莫志心  男  岭南师范学院  高等教育院校学生   \n",
       "\n",
       "                 第一剂时间   第一剂厂家  第二剂时间  第二剂厂家  \n",
       "出生日期                                          \n",
       "1996-09-27  2021-03-29    北京生物    NaN    NaN  \n",
       "1996-12-12  2021-04-01  北京科兴中维    NaN    NaN  "
      ]
     },
     "execution_count": 33,
     "metadata": {},
     "output_type": "execute_result"
    }
   ],
   "source": [
    "df3[datetime(1996,1,1):datetime(1996,12,31)]"
   ]
  },
  {
   "cell_type": "markdown",
   "metadata": {},
   "source": [
    "### 布尔索引来对非索引的时间进行选取"
   ]
  },
  {
   "cell_type": "code",
   "execution_count": 35,
   "metadata": {},
   "outputs": [
    {
     "data": {
      "text/html": [
       "<div>\n",
       "<style scoped>\n",
       "    .dataframe tbody tr th:only-of-type {\n",
       "        vertical-align: middle;\n",
       "    }\n",
       "\n",
       "    .dataframe tbody tr th {\n",
       "        vertical-align: top;\n",
       "    }\n",
       "\n",
       "    .dataframe thead th {\n",
       "        text-align: right;\n",
       "    }\n",
       "</style>\n",
       "<table border=\"1\" class=\"dataframe\">\n",
       "  <thead>\n",
       "    <tr style=\"text-align: right;\">\n",
       "      <th></th>\n",
       "      <th>序号</th>\n",
       "      <th>地市</th>\n",
       "      <th>县区</th>\n",
       "      <th>接种单位</th>\n",
       "      <th>姓名</th>\n",
       "      <th>性别</th>\n",
       "      <th>出生日期</th>\n",
       "      <th>工作单位</th>\n",
       "      <th>人群分类</th>\n",
       "      <th>第一剂时间</th>\n",
       "      <th>第一剂厂家</th>\n",
       "      <th>第二剂时间</th>\n",
       "      <th>第二剂厂家</th>\n",
       "    </tr>\n",
       "  </thead>\n",
       "  <tbody>\n",
       "    <tr>\n",
       "      <th>0</th>\n",
       "      <td>1</td>\n",
       "      <td>湛江市</td>\n",
       "      <td>赤坎区</td>\n",
       "      <td>湛江中心人民医院岭师流动点</td>\n",
       "      <td>李吉那</td>\n",
       "      <td>女</td>\n",
       "      <td>1997-05-03</td>\n",
       "      <td>岭南师范学院</td>\n",
       "      <td>高等教育院校学生</td>\n",
       "      <td>2021-03-29</td>\n",
       "      <td>北京生物</td>\n",
       "      <td>NaN</td>\n",
       "      <td>NaN</td>\n",
       "    </tr>\n",
       "    <tr>\n",
       "      <th>2</th>\n",
       "      <td>3</td>\n",
       "      <td>湛江市</td>\n",
       "      <td>赤坎区</td>\n",
       "      <td>湛江中心人民医院岭师流动点</td>\n",
       "      <td>苏国昊</td>\n",
       "      <td>男</td>\n",
       "      <td>1998-03-13</td>\n",
       "      <td>岭南师范学院</td>\n",
       "      <td>高等教育院校学生</td>\n",
       "      <td>2021-03-29</td>\n",
       "      <td>北京生物</td>\n",
       "      <td>NaN</td>\n",
       "      <td>NaN</td>\n",
       "    </tr>\n",
       "    <tr>\n",
       "      <th>9</th>\n",
       "      <td>10</td>\n",
       "      <td>湛江市</td>\n",
       "      <td>赤坎区</td>\n",
       "      <td>湛江中心人民医院岭师流动点</td>\n",
       "      <td>马振乐</td>\n",
       "      <td>男</td>\n",
       "      <td>1998-03-10</td>\n",
       "      <td>岭南师范学院</td>\n",
       "      <td>高等教育院校学生</td>\n",
       "      <td>2021-03-29</td>\n",
       "      <td>北京生物</td>\n",
       "      <td>NaN</td>\n",
       "      <td>NaN</td>\n",
       "    </tr>\n",
       "    <tr>\n",
       "      <th>10</th>\n",
       "      <td>11</td>\n",
       "      <td>湛江市</td>\n",
       "      <td>赤坎区</td>\n",
       "      <td>湛江中心人民医院岭师流动点</td>\n",
       "      <td>李仲庭</td>\n",
       "      <td>男</td>\n",
       "      <td>1998-02-03</td>\n",
       "      <td>岭南师范学院</td>\n",
       "      <td>高等教育院校学生</td>\n",
       "      <td>2021-03-29</td>\n",
       "      <td>北京生物</td>\n",
       "      <td>NaN</td>\n",
       "      <td>NaN</td>\n",
       "    </tr>\n",
       "    <tr>\n",
       "      <th>16</th>\n",
       "      <td>17</td>\n",
       "      <td>湛江市</td>\n",
       "      <td>赤坎区</td>\n",
       "      <td>湛江中心人民医院岭师流动点</td>\n",
       "      <td>宋泽贤</td>\n",
       "      <td>男</td>\n",
       "      <td>1998-08-02</td>\n",
       "      <td>岭南师范学院</td>\n",
       "      <td>高等教育院校学生</td>\n",
       "      <td>2021-03-29</td>\n",
       "      <td>北京生物</td>\n",
       "      <td>NaN</td>\n",
       "      <td>NaN</td>\n",
       "    </tr>\n",
       "  </tbody>\n",
       "</table>\n",
       "</div>"
      ],
      "text/plain": [
       "    序号   地市   县区           接种单位   姓名 性别       出生日期    工作单位      人群分类  \\\n",
       "0    1  湛江市  赤坎区  湛江中心人民医院岭师流动点  李吉那  女 1997-05-03  岭南师范学院  高等教育院校学生   \n",
       "2    3  湛江市  赤坎区  湛江中心人民医院岭师流动点  苏国昊  男 1998-03-13  岭南师范学院  高等教育院校学生   \n",
       "9   10  湛江市  赤坎区  湛江中心人民医院岭师流动点  马振乐  男 1998-03-10  岭南师范学院  高等教育院校学生   \n",
       "10  11  湛江市  赤坎区  湛江中心人民医院岭师流动点  李仲庭  男 1998-02-03  岭南师范学院  高等教育院校学生   \n",
       "16  17  湛江市  赤坎区  湛江中心人民医院岭师流动点  宋泽贤  男 1998-08-02  岭南师范学院  高等教育院校学生   \n",
       "\n",
       "         第一剂时间 第一剂厂家  第二剂时间  第二剂厂家  \n",
       "0   2021-03-29  北京生物    NaN    NaN  \n",
       "2   2021-03-29  北京生物    NaN    NaN  \n",
       "9   2021-03-29  北京生物    NaN    NaN  \n",
       "10  2021-03-29  北京生物    NaN    NaN  \n",
       "16  2021-03-29  北京生物    NaN    NaN  "
      ]
     },
     "execution_count": 35,
     "metadata": {},
     "output_type": "execute_result"
    }
   ],
   "source": [
    "df1[df1['出生日期'] < datetime(1998,12,31)].head()"
   ]
  },
  {
   "cell_type": "code",
   "execution_count": 38,
   "metadata": {},
   "outputs": [
    {
     "data": {
      "text/html": [
       "<div>\n",
       "<style scoped>\n",
       "    .dataframe tbody tr th:only-of-type {\n",
       "        vertical-align: middle;\n",
       "    }\n",
       "\n",
       "    .dataframe tbody tr th {\n",
       "        vertical-align: top;\n",
       "    }\n",
       "\n",
       "    .dataframe thead th {\n",
       "        text-align: right;\n",
       "    }\n",
       "</style>\n",
       "<table border=\"1\" class=\"dataframe\">\n",
       "  <thead>\n",
       "    <tr style=\"text-align: right;\">\n",
       "      <th></th>\n",
       "      <th>序号</th>\n",
       "      <th>地市</th>\n",
       "      <th>县区</th>\n",
       "      <th>接种单位</th>\n",
       "      <th>姓名</th>\n",
       "      <th>性别</th>\n",
       "      <th>出生日期</th>\n",
       "      <th>工作单位</th>\n",
       "      <th>人群分类</th>\n",
       "      <th>第一剂时间</th>\n",
       "      <th>第一剂厂家</th>\n",
       "      <th>第二剂时间</th>\n",
       "      <th>第二剂厂家</th>\n",
       "    </tr>\n",
       "  </thead>\n",
       "  <tbody>\n",
       "    <tr>\n",
       "      <th>2</th>\n",
       "      <td>3</td>\n",
       "      <td>湛江市</td>\n",
       "      <td>赤坎区</td>\n",
       "      <td>湛江中心人民医院岭师流动点</td>\n",
       "      <td>苏国昊</td>\n",
       "      <td>男</td>\n",
       "      <td>1998-03-13</td>\n",
       "      <td>岭南师范学院</td>\n",
       "      <td>高等教育院校学生</td>\n",
       "      <td>2021-03-29</td>\n",
       "      <td>北京生物</td>\n",
       "      <td>NaN</td>\n",
       "      <td>NaN</td>\n",
       "    </tr>\n",
       "    <tr>\n",
       "      <th>9</th>\n",
       "      <td>10</td>\n",
       "      <td>湛江市</td>\n",
       "      <td>赤坎区</td>\n",
       "      <td>湛江中心人民医院岭师流动点</td>\n",
       "      <td>马振乐</td>\n",
       "      <td>男</td>\n",
       "      <td>1998-03-10</td>\n",
       "      <td>岭南师范学院</td>\n",
       "      <td>高等教育院校学生</td>\n",
       "      <td>2021-03-29</td>\n",
       "      <td>北京生物</td>\n",
       "      <td>NaN</td>\n",
       "      <td>NaN</td>\n",
       "    </tr>\n",
       "    <tr>\n",
       "      <th>10</th>\n",
       "      <td>11</td>\n",
       "      <td>湛江市</td>\n",
       "      <td>赤坎区</td>\n",
       "      <td>湛江中心人民医院岭师流动点</td>\n",
       "      <td>李仲庭</td>\n",
       "      <td>男</td>\n",
       "      <td>1998-02-03</td>\n",
       "      <td>岭南师范学院</td>\n",
       "      <td>高等教育院校学生</td>\n",
       "      <td>2021-03-29</td>\n",
       "      <td>北京生物</td>\n",
       "      <td>NaN</td>\n",
       "      <td>NaN</td>\n",
       "    </tr>\n",
       "    <tr>\n",
       "      <th>16</th>\n",
       "      <td>17</td>\n",
       "      <td>湛江市</td>\n",
       "      <td>赤坎区</td>\n",
       "      <td>湛江中心人民医院岭师流动点</td>\n",
       "      <td>宋泽贤</td>\n",
       "      <td>男</td>\n",
       "      <td>1998-08-02</td>\n",
       "      <td>岭南师范学院</td>\n",
       "      <td>高等教育院校学生</td>\n",
       "      <td>2021-03-29</td>\n",
       "      <td>北京生物</td>\n",
       "      <td>NaN</td>\n",
       "      <td>NaN</td>\n",
       "    </tr>\n",
       "    <tr>\n",
       "      <th>22</th>\n",
       "      <td>23</td>\n",
       "      <td>湛江市</td>\n",
       "      <td>赤坎区</td>\n",
       "      <td>湛江中心人民医院岭师流动点</td>\n",
       "      <td>谢明晓</td>\n",
       "      <td>男</td>\n",
       "      <td>1998-10-26</td>\n",
       "      <td>岭南师范学院</td>\n",
       "      <td>高等教育院校学生</td>\n",
       "      <td>2021-03-29</td>\n",
       "      <td>北京生物</td>\n",
       "      <td>NaN</td>\n",
       "      <td>NaN</td>\n",
       "    </tr>\n",
       "  </tbody>\n",
       "</table>\n",
       "</div>"
      ],
      "text/plain": [
       "    序号   地市   县区           接种单位   姓名 性别       出生日期    工作单位      人群分类  \\\n",
       "2    3  湛江市  赤坎区  湛江中心人民医院岭师流动点  苏国昊  男 1998-03-13  岭南师范学院  高等教育院校学生   \n",
       "9   10  湛江市  赤坎区  湛江中心人民医院岭师流动点  马振乐  男 1998-03-10  岭南师范学院  高等教育院校学生   \n",
       "10  11  湛江市  赤坎区  湛江中心人民医院岭师流动点  李仲庭  男 1998-02-03  岭南师范学院  高等教育院校学生   \n",
       "16  17  湛江市  赤坎区  湛江中心人民医院岭师流动点  宋泽贤  男 1998-08-02  岭南师范学院  高等教育院校学生   \n",
       "22  23  湛江市  赤坎区  湛江中心人民医院岭师流动点  谢明晓  男 1998-10-26  岭南师范学院  高等教育院校学生   \n",
       "\n",
       "         第一剂时间 第一剂厂家  第二剂时间  第二剂厂家  \n",
       "2   2021-03-29  北京生物    NaN    NaN  \n",
       "9   2021-03-29  北京生物    NaN    NaN  \n",
       "10  2021-03-29  北京生物    NaN    NaN  \n",
       "16  2021-03-29  北京生物    NaN    NaN  \n",
       "22  2021-03-29  北京生物    NaN    NaN  "
      ]
     },
     "execution_count": 38,
     "metadata": {},
     "output_type": "execute_result"
    }
   ],
   "source": [
    "df1[(df1['出生日期'] < datetime(1998,12,31)) & (df1['出生日期']  > datetime(1998,1,1))].head()"
   ]
  },
  {
   "cell_type": "markdown",
   "metadata": {},
   "source": [
    "### 两个时间差"
   ]
  },
  {
   "cell_type": "markdown",
   "metadata": {},
   "source": [
    "计算两个时间的差  \n",
    "在Python中两个时间做差返回一个timedelta对象，该对象中包含天数、秒、微妙三个等级  \n",
    "如果要获取小时、分钟，则需要进行换算  "
   ]
  },
  {
   "cell_type": "code",
   "execution_count": 83,
   "metadata": {},
   "outputs": [
    {
     "data": {
      "text/plain": [
       "datetime.timedelta(days=2, seconds=83880)"
      ]
     },
     "execution_count": 83,
     "metadata": {},
     "output_type": "execute_result"
    }
   ],
   "source": [
    "cha = datetime(2018,5,21,19,50) -datetime(2018,5,18,20,32)\n",
    "cha"
   ]
  },
  {
   "cell_type": "code",
   "execution_count": 84,
   "metadata": {},
   "outputs": [
    {
     "data": {
      "text/plain": [
       "2"
      ]
     },
     "execution_count": 84,
     "metadata": {},
     "output_type": "execute_result"
    }
   ],
   "source": [
    "cha.days"
   ]
  },
  {
   "cell_type": "code",
   "execution_count": 85,
   "metadata": {},
   "outputs": [
    {
     "data": {
      "text/plain": [
       "83880"
      ]
     },
     "execution_count": 85,
     "metadata": {},
     "output_type": "execute_result"
    }
   ],
   "source": [
    "cha.seconds"
   ]
  },
  {
   "cell_type": "code",
   "execution_count": 86,
   "metadata": {},
   "outputs": [
    {
     "data": {
      "text/plain": [
       "23.3"
      ]
     },
     "execution_count": 86,
     "metadata": {},
     "output_type": "execute_result"
    }
   ],
   "source": [
    "cha.seconds/3600"
   ]
  },
  {
   "cell_type": "markdown",
   "metadata": {},
   "source": [
    "### 时间偏移\n",
    "时间偏移是指给时间往前推或往后推一段时间，即加或减一段时间   \n",
    "* 第一种是借助timedelta，但是它只能偏移天、秒、微妙单位的时间   \n",
    "    > 由于timedalta只支持天、秒、微妙的时间运算，如果其他单位的时间运算，  \n",
    "      则需要换算成以上三种单位中的一种方可进行偏移  \n",
    "* 第二种是用Pandas中的日期偏移量（date offset）  \n",
    "    > date offset可以直接实现天、小时、分钟单位的时间偏移，不需要换算，相比timedelta要方便一些  "
   ]
  },
  {
   "cell_type": "code",
   "execution_count": 100,
   "metadata": {},
   "outputs": [
    {
     "name": "stdout",
     "output_type": "stream",
     "text": [
      "2021-07-01 23:51:20\n",
      "2021-06-30 23:52:20\n",
      "2021-06-29 23:51:20\n",
      "2021-06-30 23:50:20\n"
     ]
    }
   ],
   "source": [
    "from datetime import datetime\n",
    "from datetime import timedelta\n",
    "\n",
    "date = datetime(2021,6,30,23,51,20)\n",
    "\n",
    "print(date + timedelta(days=1))\n",
    "print(date + timedelta(seconds=60))\n",
    "print(date - timedelta(days=1))\n",
    "print(date - timedelta(seconds=60))"
   ]
  },
  {
   "cell_type": "code",
   "execution_count": 103,
   "metadata": {},
   "outputs": [
    {
     "name": "stdout",
     "output_type": "stream",
     "text": [
      "2018-05-19 20:32:00\n",
      "2018-05-18 21:32:00\n",
      "2018-05-18 20:42:00\n",
      "2018-05-17 20:32:00\n",
      "2018-05-18 19:32:00\n",
      "2018-05-18 20:22:00\n"
     ]
    }
   ],
   "source": [
    "from pandas.tseries.offsets import Day,Hour,Minute\n",
    "date = datetime(2018,5,18,20,32)\n",
    "print(date + Day(1))\n",
    "print(date + Hour(1))\n",
    "print(date + Minute(10))\n",
    "print(date - Day(1))\n",
    "print(date - Hour(1))\n",
    "print(date - Minute(10))"
   ]
  },
  {
   "cell_type": "code",
   "execution_count": null,
   "metadata": {},
   "outputs": [],
   "source": []
  }
 ],
 "metadata": {
  "kernelspec": {
   "display_name": "Python 3",
   "language": "python",
   "name": "python3"
  },
  "language_info": {
   "codemirror_mode": {
    "name": "ipython",
    "version": 3
   },
   "file_extension": ".py",
   "mimetype": "text/x-python",
   "name": "python",
   "nbconvert_exporter": "python",
   "pygments_lexer": "ipython3",
   "version": "3.7.4"
  }
 },
 "nbformat": 4,
 "nbformat_minor": 4
}
